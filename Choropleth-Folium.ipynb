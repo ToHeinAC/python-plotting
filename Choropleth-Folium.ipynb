{
 "cells": [
  {
   "cell_type": "code",
   "execution_count": 18,
   "metadata": {},
   "outputs": [],
   "source": [
    "# Your code here\n",
    "\n",
    "#Grab Westminster parliamentary constituency shapefiles from Martin Chorley's github repository\n",
    "import folium\n",
    "import requests\n",
    "import json\n",
    "url='https://github.com/martinjc/UK-GeoJSON/blob/master/json/electoral/gb/wpc.json?raw=true'\n",
    "r = requests.get(url)\n",
    "\n",
    "with open(\"wpc.json\", \"wb\") as code:\n",
    "    code.write(r.content)\n",
    "\n",
    "#Free up memory...\n",
    "r=None\n",
    "\n",
    "with open('wpc.json', 'r') as output:\n",
    "    boundaries = json.load(output)\n",
    "\n",
    "#import csv with election results - see attached file \"election winners 2017\"\n",
    "import pandas as pd\n",
    "\n",
    "election_winners_2017 = pd.read_csv('election_winners_2017.csv')\n",
    "\n",
    "\n",
    "#create folium map\n",
    "\n",
    "data_map = folium.Map(location=[55, -0.2], zoom_start=5)\n",
    "\n",
    "data_map.choropleth(geo_data=boundaries,\n",
    "                   data=election_winners_2017,\n",
    "                   columns=['Code', 'Year 2017'],\n",
    "                   key_on='feature.properties.PCON13CD',\n",
    "                   #fill_color = election_winners_2017['Colour_brewer']\n",
    "                   fill_color = 'BuPu'\n",
    "                   )\n",
    "\n",
    "data_map.save('data_map.html')"
   ]
  },
  {
   "cell_type": "code",
   "execution_count": 20,
   "metadata": {},
   "outputs": [
    {
     "name": "stdout",
     "output_type": "stream",
     "text": [
      "Collecting geopandas\n",
      "  Downloading https://files.pythonhosted.org/packages/74/42/f4b147fc7920998a42046d0c2e65e61000bc5d104f1f8aec719612cb2fc8/geopandas-0.5.0-py2.py3-none-any.whl (893kB)\n",
      "Collecting shapely (from geopandas)\n",
      "  Downloading https://files.pythonhosted.org/packages/a2/fb/7a7af9ef7a35d16fa23b127abee272cfc483ca89029b73e92e93cdf36e6b/Shapely-1.6.4.post2.tar.gz (225kB)\n",
      "    Complete output from command python setup.py egg_info:\n",
      "    Traceback (most recent call last):\n",
      "      File \"<string>\", line 1, in <module>\n",
      "      File \"C:\\Users\\he\\AppData\\Local\\Temp\\pip-install-0q1op9rl\\shapely\\setup.py\", line 80, in <module>\n",
      "        from shapely._buildcfg import geos_version_string, geos_version, \\\n",
      "      File \"C:\\Users\\he\\AppData\\Local\\Temp\\pip-install-0q1op9rl\\shapely\\shapely\\_buildcfg.py\", line 200, in <module>\n",
      "        lgeos = CDLL(\"geos_c.dll\")\n",
      "      File \"C:\\Users\\he\\AppData\\Local\\conda\\conda\\envs\\venv_tobi\\lib\\ctypes\\__init__.py\", line 348, in __init__\n",
      "        self._handle = _dlopen(self._name, mode)\n",
      "    OSError: [WinError 126] Das angegebene Modul wurde nicht gefunden\n",
      "    \n",
      "    ----------------------------------------\n"
     ]
    },
    {
     "name": "stderr",
     "output_type": "stream",
     "text": [
      "Command \"python setup.py egg_info\" failed with error code 1 in C:\\Users\\he\\AppData\\Local\\Temp\\pip-install-0q1op9rl\\shapely\\\n"
     ]
    }
   ],
   "source": []
  }
 ],
 "metadata": {
  "kernelspec": {
   "display_name": "Python 3",
   "language": "python",
   "name": "python3"
  },
  "language_info": {
   "codemirror_mode": {
    "name": "ipython",
    "version": 3
   },
   "file_extension": ".py",
   "mimetype": "text/x-python",
   "name": "python",
   "nbconvert_exporter": "python",
   "pygments_lexer": "ipython3",
   "version": "3.6.8"
  }
 },
 "nbformat": 4,
 "nbformat_minor": 2
}
