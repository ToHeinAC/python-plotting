{
 "cells": [
  {
   "cell_type": "code",
   "execution_count": 1,
   "metadata": {},
   "outputs": [],
   "source": [
    "import gmplot, folium\n",
    "from math import cos, pi, sqrt, tan, sin, atan, trunc\n",
    "import numpy as np\n",
    "import csv\n",
    "#import matplotlib\n",
    "#import matplotlib.pyplot as plt\n",
    "import pandas as pd\n",
    "#from scipy.misc import imread\n",
    "#from matplotlib.backends.backend_pdf import PdfPages\n",
    "#from IPython.core.interactiveshell import InteractiveShell\n",
    "#InteractiveShell.ast_node_interactivity = \"all\""
   ]
  },
  {
   "cell_type": "code",
   "execution_count": 2,
   "metadata": {},
   "outputs": [],
   "source": [
    "#Definitionen\n",
    "file=\"C:\\\\he\\python\\\\P1510-03\\\\1510-03c_Messdaten_190417.csv\""
   ]
  },
  {
   "cell_type": "code",
   "execution_count": 3,
   "metadata": {},
   "outputs": [],
   "source": [
    "data_df = pd.read_csv(file,sep = ';')"
   ]
  },
  {
   "cell_type": "code",
   "execution_count": 4,
   "metadata": {},
   "outputs": [
    {
     "data": {
      "text/html": [
       "<div>\n",
       "<style scoped>\n",
       "    .dataframe tbody tr th:only-of-type {\n",
       "        vertical-align: middle;\n",
       "    }\n",
       "\n",
       "    .dataframe tbody tr th {\n",
       "        vertical-align: top;\n",
       "    }\n",
       "\n",
       "    .dataframe thead th {\n",
       "        text-align: right;\n",
       "    }\n",
       "</style>\n",
       "<table border=\"1\" class=\"dataframe\">\n",
       "  <thead>\n",
       "    <tr style=\"text-align: right;\">\n",
       "      <th></th>\n",
       "      <th>RW</th>\n",
       "      <th>HW</th>\n",
       "      <th>ODL [nSv/h]</th>\n",
       "    </tr>\n",
       "  </thead>\n",
       "  <tbody>\n",
       "    <tr>\n",
       "      <th>0</th>\n",
       "      <td>2567786</td>\n",
       "      <td>5717545</td>\n",
       "      <td>550</td>\n",
       "    </tr>\n",
       "    <tr>\n",
       "      <th>1</th>\n",
       "      <td>2567781</td>\n",
       "      <td>5717541</td>\n",
       "      <td>1000</td>\n",
       "    </tr>\n",
       "    <tr>\n",
       "      <th>2</th>\n",
       "      <td>2567839</td>\n",
       "      <td>5717543</td>\n",
       "      <td>300</td>\n",
       "    </tr>\n",
       "    <tr>\n",
       "      <th>3</th>\n",
       "      <td>2567852</td>\n",
       "      <td>5717543</td>\n",
       "      <td>250</td>\n",
       "    </tr>\n",
       "    <tr>\n",
       "      <th>4</th>\n",
       "      <td>2567977</td>\n",
       "      <td>5717531</td>\n",
       "      <td>260</td>\n",
       "    </tr>\n",
       "  </tbody>\n",
       "</table>\n",
       "</div>"
      ],
      "text/plain": [
       "        RW       HW  ODL [nSv/h]\n",
       "0  2567786  5717545          550\n",
       "1  2567781  5717541         1000\n",
       "2  2567839  5717543          300\n",
       "3  2567852  5717543          250\n",
       "4  2567977  5717531          260"
      ]
     },
     "execution_count": 4,
     "metadata": {},
     "output_type": "execute_result"
    }
   ],
   "source": [
    "data_df.head(5)"
   ]
  },
  {
   "cell_type": "code",
   "execution_count": 5,
   "metadata": {},
   "outputs": [],
   "source": [
    "\"\"\"\n",
    "Converting a Gauss-Kruger-Code to a latitude / longitude coordinate.\n",
    "\"\"\"\n",
    "from math import cos, pi, sqrt, tan, sin, atan, trunc\n",
    "\n",
    "\n",
    "def convert_GK_to_lat_long(right, height, use_wgs84=None):\n",
    "    (x, y) = gauss_krueger_transformation(right, height)\n",
    "\n",
    "    return seven_parameter_helmert_transf(x, y, use_wgs84)\n",
    "\n",
    "\n",
    "def gauss_krueger_transformation(right, height):\n",
    "    # Check for invalid Parameters\n",
    "    if not ((right > 1000000) and (height > 1000000)):\n",
    "        raise ValueError(\"No valid Gauss-Kruger-Code.\")\n",
    "\n",
    "    # Variables to prepare the geovalues\n",
    "    GKRight = right\n",
    "    GKHeight = height\n",
    "    e2 = 0.0067192188\n",
    "    c = 6398786.849\n",
    "    rho = 180 / pi\n",
    "    bII = (GKHeight / 10000855.7646) * (GKHeight / 10000855.7646)\n",
    "    bf = 325632.08677 * (GKHeight / 10000855.7646) * ((((((0.00000562025 * bII + 0.00022976983) * bII - 0.00113566119) * bII + 0.00424914906) * bII - 0.00831729565) * bII + 1))\n",
    "\n",
    "    bf /= 3600 * rho\n",
    "    co = cos(bf)\n",
    "    g2 = e2 * (co * co)\n",
    "    g1 = c / sqrt(1 + g2)\n",
    "    t = tan(bf)\n",
    "    fa = (GKRight - trunc(GKRight / 1000000) * 1000000 - 500000) / g1\n",
    "\n",
    "    GeoDezRight = ((bf - fa * fa * t * (1 + g2) / 2 + fa * fa * fa * fa * t * (5 + 3 * t * t + 6 * g2 - 6 * g2 * t * t) / 24) * rho)\n",
    "    dl = fa - fa * fa * fa * (1 + 2 * t * t + g2) / 6 + fa * fa * fa * fa * fa * (1 + 28 * t * t + 24 * t * t * t * t) / 120\n",
    "    GeoDezHeight = dl * rho / co + trunc(GKRight / 1000000) * 3\n",
    "\n",
    "    return (GeoDezRight, GeoDezHeight)\n",
    "\n",
    "\n",
    "def seven_parameter_helmert_transf(right, height, use_wgs84=False):\n",
    "    earthRadius = 6378137  # Earth is a sphere with this radius\n",
    "    aBessel = 6377397.155\n",
    "    eeBessel = 0.0066743722296294277832\n",
    "    ScaleFactor = 0.00000982\n",
    "    RotXRad = -7.16069806998785E-06\n",
    "    RotYRad = 3.56822869296619E-07\n",
    "    RotZRad = 7.06858347057704E-06\n",
    "    ShiftXMeters = 591.28\n",
    "    ShiftYMeters = 81.35\n",
    "    ShiftZMeters = 396.39\n",
    "    LatitudeIt = 99999999\n",
    "\n",
    "    if use_wgs84:\n",
    "        ee = 0.0066943799\n",
    "    else:\n",
    "        ee = 0.00669438002290\n",
    "\n",
    "    GeoDezRight = (right / 180) * pi\n",
    "    GeoDezHeight = (height / 180) * pi\n",
    "\n",
    "    n = eeBessel * sin(GeoDezRight) * sin(GeoDezRight)\n",
    "    n = 1 - n\n",
    "    n = sqrt(n)\n",
    "    n = aBessel / n\n",
    "\n",
    "    CartesianXMeters = n * cos(GeoDezRight) * cos(GeoDezHeight)\n",
    "    CartesianYMeters = n * cos(GeoDezRight) * sin(GeoDezHeight)\n",
    "    CartesianZMeters = n * (1 - eeBessel) * sin(GeoDezRight)\n",
    "\n",
    "    CartOutputXMeters = (1 + ScaleFactor) * CartesianXMeters + RotZRad * CartesianYMeters - RotYRad * CartesianZMeters + ShiftXMeters\n",
    "    CartOutputYMeters = -1 * RotZRad * CartesianXMeters + (1 + ScaleFactor) * CartesianYMeters + RotXRad * CartesianZMeters + ShiftYMeters\n",
    "    CartOutputZMeters = RotYRad * CartesianXMeters - RotXRad * CartesianYMeters + (1 + ScaleFactor) * CartesianZMeters + ShiftZMeters\n",
    "\n",
    "    GeoDezHeight = atan(CartOutputYMeters / CartOutputXMeters)\n",
    "\n",
    "    Latitude = (CartOutputXMeters * CartOutputXMeters) + (CartOutputYMeters * CartOutputYMeters)\n",
    "    Latitude = sqrt(Latitude)\n",
    "    Latitude = CartOutputZMeters / Latitude\n",
    "    Latitude = atan(Latitude)\n",
    "\n",
    "    not_accurate_enough = True\n",
    "\n",
    "    while not_accurate_enough:\n",
    "        LatitudeIt = Latitude\n",
    "\n",
    "        n = 1 - ee * sin(Latitude) * sin(Latitude)\n",
    "        n = sqrt(n)\n",
    "        n = earthRadius / n\n",
    "\n",
    "        Latitude = CartOutputXMeters * CartOutputXMeters + CartOutputYMeters * CartOutputYMeters\n",
    "        Latitude = sqrt(Latitude)\n",
    "        Latitude = (CartOutputZMeters + ee * n * sin(LatitudeIt)) / Latitude\n",
    "        Latitude = atan(Latitude)\n",
    "\n",
    "        not_accurate_enough = abs(Latitude - LatitudeIt) >= 0.000000000000001\n",
    "\n",
    "    GeoDezRight = (Latitude / pi) * 180\n",
    "    GeoDezHeight = (GeoDezHeight) / pi * 180\n",
    "\n",
    "    return (GeoDezRight, GeoDezHeight)"
   ]
  },
  {
   "cell_type": "code",
   "execution_count": 6,
   "metadata": {},
   "outputs": [],
   "source": [
    "#!dir"
   ]
  },
  {
   "cell_type": "code",
   "execution_count": 7,
   "metadata": {},
   "outputs": [],
   "source": [
    "def wrapper_conv_Lat(dframe):    \n",
    "      return convert_GK_to_lat_long(dframe['RW'],dframe['HW'],use_wgs84=True)[0]\n",
    "    \n",
    "def wrapper_conv_Lon(dframe):    \n",
    "      return convert_GK_to_lat_long(dframe['RW'],dframe['HW'],use_wgs84=True)[1]"
   ]
  },
  {
   "cell_type": "code",
   "execution_count": 8,
   "metadata": {},
   "outputs": [],
   "source": [
    "data_df['Latitude'] = data_df.apply(wrapper_conv_Lat, axis=1);\n",
    "data_df['Longitude'] = data_df.apply(wrapper_conv_Lon, axis=1);\n",
    "data_df['Messpunkt ODL'] = data_df['ODL [nSv/h]'].astype(str)"
   ]
  },
  {
   "cell_type": "code",
   "execution_count": 9,
   "metadata": {},
   "outputs": [],
   "source": [
    "# Place map\n",
    "gmap = gmplot.GoogleMapPlotter(data_df['Latitude'].mean(),data_df['Longitude'].mean(), 18)\n",
    "\n",
    "# Scatter points\n",
    "gmap.scatter(data_df['Latitude'], data_df['Longitude'], '#3B0B39', size=2, marker=False)\n",
    "\n",
    "#tut nicht\n",
    "gmap.marker(data_df['Latitude'][0], data_df['Longitude'][0], 'cornflowerblue')\n",
    "\n",
    "# Draw\n",
    "gmap.draw(\"C:\\\\Users\\\\he\\\\Desktop\\\\Zweckel.html\")"
   ]
  },
  {
   "cell_type": "code",
   "execution_count": 10,
   "metadata": {},
   "outputs": [],
   "source": [
    "data_df.to_csv(\"C:\\\\Users\\\\he\\\\Desktop\\\\Zweckel_df-data_190424.csv\",sep = ';')"
   ]
  },
  {
   "cell_type": "code",
   "execution_count": 11,
   "metadata": {},
   "outputs": [
    {
     "data": {
      "text/plain": [
       "[[51.58825370565419, 6.977439511317778],\n",
       " [51.58821835948112, 6.977366606654291],\n",
       " [51.58822936165242, 6.978203736850894],\n",
       " [51.588227798304985, 6.978391282976138],\n",
       " [51.58810491018252, 6.980192289116456],\n",
       " [51.58805732537165, 6.98050870635819],\n",
       " [51.58781631515051, 6.981383691231336],\n",
       " [51.58747680679235, 6.982213255536174],\n",
       " [51.587084822267386, 6.9828685286288605],\n",
       " [51.587030539518764, 6.982910643625053],\n",
       " [51.58691226223392, 6.9830812364739865],\n",
       " [51.58674917199511, 6.983236432199969]]"
      ]
     },
     "execution_count": 11,
     "metadata": {},
     "output_type": "execute_result"
    }
   ],
   "source": [
    "locations = data_df[['Latitude', 'Longitude']]\n",
    "locationlist = locations.values.tolist()\n",
    "len(locationlist)\n",
    "locationlist"
   ]
  },
  {
   "cell_type": "code",
   "execution_count": 12,
   "metadata": {},
   "outputs": [],
   "source": [
    "map = folium.Map(location=[data_df['Latitude'].mean(),data_df['Longitude'].mean()], zoom_start=18)\n",
    "for point in range(0, len(locationlist)):\n",
    "    folium.Marker(locationlist[point], popup=data_df['Messpunkt ODL'][point]).add_to(map)\n",
    "map\n",
    "map.save(outfile= \"C:\\\\Users\\\\he\\\\Desktop\\\\Messpunkte-GWL_Zweckel.html\")"
   ]
  },
  {
   "cell_type": "code",
   "execution_count": 13,
   "metadata": {},
   "outputs": [],
   "source": [
    "map = folium.Map(location=[data_df['Latitude'].mean(),data_df['Longitude'].mean()], zoom_start=18)\n",
    "for point in range(0, len(locationlist)):\n",
    "    folium.Marker(locationlist[point], popup=folium.Popup(folium.Html(\"\"\"\n",
    "            </b> {0} </br>\n",
    "            </b> nSv/h\n",
    "            \"\"\".format(data_df['Messpunkt ODL'][point]), script=True), max_width='100%', show=True, sticky=True)).add_to(map)\n",
    "        \n",
    "        #str(data_df['Messpunkt ODL'][point])+' nSv/h', parse_html=True, max_width='100%', show=True)).add_to(map)\n",
    "map\n",
    "map.save(outfile= \"C:\\\\Users\\\\he\\\\Desktop\\\\Messpunkte-GWL_Zweckel2.html\")"
   ]
  },
  {
   "cell_type": "code",
   "execution_count": 45,
   "metadata": {},
   "outputs": [],
   "source": [
    "map = folium.Map(location=[data_df['Latitude'].mean(),data_df['Longitude'].mean()], zoom_start=18)\n",
    "for point in range(0, len(locationlist)):\n",
    "    folium.Circle(locationlist[point], 2, fill=True).add_child(folium.Popup(folium.Html(\"\"\"\n",
    "            </b> {0} </br>\n",
    "            </b> nSv/h\n",
    "            \"\"\".format(data_df['Messpunkt ODL'][point]), script=True), max_width='100%', show=True, sticky=True)).add_to(map)\n",
    "map\n",
    "map.save(outfile= \"C:\\\\Users\\\\he\\\\Desktop\\\\Messpunkte-GWL_Zweckel3.html\")\n",
    "map.save(outfile= \"C:\\\\Users\\\\he\\\\Desktop\\\\Messpunkte-GWL_Zweckel3.png\")"
   ]
  },
  {
   "cell_type": "code",
   "execution_count": 15,
   "metadata": {},
   "outputs": [],
   "source": [
    "map = folium.Map(location=[data_df['Latitude'].mean(),data_df['Longitude'].mean()], zoom_start=18)\n",
    "for point in range(0, len(locationlist)):\n",
    "    folium.CircleMarker(location=locationlist[point],radius=10, color='blue', \n",
    "                        popup='{0} nSv/h'.format(data_df['Messpunkt ODL'][point]),\n",
    "    fill=True).add_to(map)\n",
    "map\n",
    "map.save(outfile= \"C:\\\\Users\\\\he\\\\Desktop\\\\Messpunkte-GWL_Zweckel4.html\")"
   ]
  },
  {
   "cell_type": "code",
   "execution_count": 46,
   "metadata": {},
   "outputs": [],
   "source": [
    "from folium.features import DivIcon\n",
    "map = folium.Map(location=[data_df['Latitude'].mean(),data_df['Longitude'].mean()], zoom_start=18)\n",
    "for point in range(0, len(locationlist)):\n",
    "    #folium.Circle(locationlist[point], radius=5, fill=True).add_to(map)\n",
    "    folium.CircleMarker(locationlist[point], radius=12, fill=True).add_to(map)\n",
    "    folium.map.Marker(locationlist[point], icon=DivIcon(\n",
    "        icon_size=(30,12),\n",
    "        icon_anchor=(10,10),#muss gleich der Font-Size sein für mittige Darstellung\n",
    "        html='<div style=\"font-size: 10pt; color : red\" </b>{0}</b> </div>'.format(data_df['Messpunkt ODL'][point]))).add_to(map)\n",
    "map\n",
    "map.save(outfile= \"C:\\\\Users\\\\he\\\\Desktop\\\\Messpunkte-GWL_Zweckel5.html\")\n",
    "map.save(outfile= \"C:\\\\Users\\\\he\\\\Desktop\\\\Messpunkte-GWL_Zweckel5.png\")"
   ]
  }
 ],
 "metadata": {
  "kernelspec": {
   "display_name": "Python 3",
   "language": "python",
   "name": "python3"
  },
  "language_info": {
   "codemirror_mode": {
    "name": "ipython",
    "version": 3
   },
   "file_extension": ".py",
   "mimetype": "text/x-python",
   "name": "python",
   "nbconvert_exporter": "python",
   "pygments_lexer": "ipython3",
   "version": "3.6.8"
  }
 },
 "nbformat": 4,
 "nbformat_minor": 2
}
