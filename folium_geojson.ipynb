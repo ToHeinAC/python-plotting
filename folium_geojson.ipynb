{
 "cells": [
  {
   "cell_type": "code",
   "execution_count": 1,
   "metadata": {},
   "outputs": [],
   "source": [
    "import pandas as pd\n",
    "import folium"
   ]
  },
  {
   "cell_type": "code",
   "execution_count": 2,
   "metadata": {},
   "outputs": [],
   "source": [
    "daten=pd.read_csv('Points.csv', sep=';')"
   ]
  },
  {
   "cell_type": "code",
   "execution_count": 3,
   "metadata": {},
   "outputs": [],
   "source": [
    "def polygon_df_to_geojson(df, properties, lat='Latitude', lon='Longitude'):\n",
    "    \"\"\"\n",
    "    Turn a dataframe containing polygon (by \"Polygon Nr\") data into a geojson formatted python dictionary\n",
    "\n",
    "    df : the dataframe to convert to geojson\n",
    "    properties : a list of columns in the dataframe to turn into geojson feature properties\n",
    "    lat : the name of the column in the dataframe that contains latitude data\n",
    "    lon : the name of the column in the dataframe that contains longitude data\n",
    "    \"\"\"\n",
    "\n",
    "    # find polygon groups\n",
    "    group = df.groupby(['Polygon Nr']).groups.keys()\n",
    "\n",
    "    # create a new python dict to contain our geojson data, using geojson format\n",
    "    geojson = {\"type\": \"FeatureCollection\", \"features\": []}\n",
    "\n",
    "    for i in range(len(group)):\n",
    "        new_df = df.loc[df['Polygon Nr'] == [x for x in df.groupby(['Polygon Nr']).groups.keys()][i]]\n",
    "        res_df = new_df.reset_index(drop=True)\n",
    "        coords = []\n",
    "        # create a feature template to fill in\n",
    "        feature = {\"type\": \"Feature\",\n",
    "                   \"properties\": {},\n",
    "                   \"geometry\": {\"type\": \"Polygon\",\n",
    "                                \"coordinates\": []}}\n",
    "        # loop through each row in the dataframe and convert each row to geojson format\n",
    "        for j in range(len(res_df)):\n",
    "            coords.append([res_df[lon][j], res_df[lat][j]])\n",
    "\n",
    "        # fill in the coordinates\n",
    "        feature[\"geometry\"][\"coordinates\"] = [coords]\n",
    "\n",
    "        # for each column, get the value and add it as a new feature property\n",
    "        for prop in properties:\n",
    "            feature['properties'][prop] = res_df[prop][i]\n",
    "        \n",
    "        # add this feature (aka, converted dataframe row) to the list of features inside our dict\n",
    "        geojson[\"features\"].append(feature)\n",
    "\n",
    "    return geojson"
   ]
  },
  {
   "cell_type": "code",
   "execution_count": 4,
   "metadata": {},
   "outputs": [
    {
     "data": {
      "text/html": [
       "<div>\n",
       "<style scoped>\n",
       "    .dataframe tbody tr th:only-of-type {\n",
       "        vertical-align: middle;\n",
       "    }\n",
       "\n",
       "    .dataframe tbody tr th {\n",
       "        vertical-align: top;\n",
       "    }\n",
       "\n",
       "    .dataframe thead th {\n",
       "        text-align: right;\n",
       "    }\n",
       "</style>\n",
       "<table border=\"1\" class=\"dataframe\">\n",
       "  <thead>\n",
       "    <tr style=\"text-align: right;\">\n",
       "      <th></th>\n",
       "      <th>Point</th>\n",
       "      <th>Polygon Nr</th>\n",
       "      <th>Longitude</th>\n",
       "      <th>Latitude</th>\n",
       "      <th>Name</th>\n",
       "    </tr>\n",
       "  </thead>\n",
       "  <tbody>\n",
       "    <tr>\n",
       "      <th>0</th>\n",
       "      <td>Point 1</td>\n",
       "      <td>1</td>\n",
       "      <td>6.106033</td>\n",
       "      <td>50.768850</td>\n",
       "      <td>Neumarkt</td>\n",
       "    </tr>\n",
       "    <tr>\n",
       "      <th>1</th>\n",
       "      <td>Point 2</td>\n",
       "      <td>1</td>\n",
       "      <td>6.106242</td>\n",
       "      <td>50.768121</td>\n",
       "      <td>Neumarkt</td>\n",
       "    </tr>\n",
       "    <tr>\n",
       "      <th>2</th>\n",
       "      <td>Point 3</td>\n",
       "      <td>1</td>\n",
       "      <td>6.106816</td>\n",
       "      <td>50.768195</td>\n",
       "      <td>Neumarkt</td>\n",
       "    </tr>\n",
       "    <tr>\n",
       "      <th>3</th>\n",
       "      <td>Point 4</td>\n",
       "      <td>1</td>\n",
       "      <td>6.106580</td>\n",
       "      <td>50.768925</td>\n",
       "      <td>Neumarkt</td>\n",
       "    </tr>\n",
       "    <tr>\n",
       "      <th>4</th>\n",
       "      <td>Point 5</td>\n",
       "      <td>1</td>\n",
       "      <td>6.106033</td>\n",
       "      <td>50.768850</td>\n",
       "      <td>Neumarkt</td>\n",
       "    </tr>\n",
       "    <tr>\n",
       "      <th>5</th>\n",
       "      <td>Point 6</td>\n",
       "      <td>2</td>\n",
       "      <td>6.102342</td>\n",
       "      <td>50.768327</td>\n",
       "      <td>Frankenberger Park</td>\n",
       "    </tr>\n",
       "    <tr>\n",
       "      <th>6</th>\n",
       "      <td>Point 7</td>\n",
       "      <td>2</td>\n",
       "      <td>6.102873</td>\n",
       "      <td>50.767632</td>\n",
       "      <td>Frankenberger Park</td>\n",
       "    </tr>\n",
       "    <tr>\n",
       "      <th>7</th>\n",
       "      <td>Point 8</td>\n",
       "      <td>2</td>\n",
       "      <td>6.103136</td>\n",
       "      <td>50.767601</td>\n",
       "      <td>Frankenberger Park</td>\n",
       "    </tr>\n",
       "    <tr>\n",
       "      <th>8</th>\n",
       "      <td>Point 9</td>\n",
       "      <td>2</td>\n",
       "      <td>6.103120</td>\n",
       "      <td>50.767452</td>\n",
       "      <td>Frankenberger Park</td>\n",
       "    </tr>\n",
       "    <tr>\n",
       "      <th>9</th>\n",
       "      <td>Point 10</td>\n",
       "      <td>2</td>\n",
       "      <td>6.104118</td>\n",
       "      <td>50.767439</td>\n",
       "      <td>Frankenberger Park</td>\n",
       "    </tr>\n",
       "  </tbody>\n",
       "</table>\n",
       "</div>"
      ],
      "text/plain": [
       "      Point  Polygon Nr  Longitude   Latitude                Name\n",
       "0   Point 1           1   6.106033  50.768850            Neumarkt\n",
       "1   Point 2           1   6.106242  50.768121            Neumarkt\n",
       "2   Point 3           1   6.106816  50.768195            Neumarkt\n",
       "3   Point 4           1   6.106580  50.768925            Neumarkt\n",
       "4   Point 5           1   6.106033  50.768850            Neumarkt\n",
       "5   Point 6           2   6.102342  50.768327  Frankenberger Park\n",
       "6   Point 7           2   6.102873  50.767632  Frankenberger Park\n",
       "7   Point 8           2   6.103136  50.767601  Frankenberger Park\n",
       "8   Point 9           2   6.103120  50.767452  Frankenberger Park\n",
       "9  Point 10           2   6.104118  50.767439  Frankenberger Park"
      ]
     },
     "execution_count": 4,
     "metadata": {},
     "output_type": "execute_result"
    }
   ],
   "source": [
    "daten=pd.read_csv('Points.csv', sep=';')\n",
    "daten.head(10)"
   ]
  },
  {
   "cell_type": "code",
   "execution_count": 5,
   "metadata": {},
   "outputs": [
    {
     "data": {
      "text/html": [
       "<div style=\"width:100%;\"><div style=\"position:relative;width:100%;height:0;padding-bottom:60%;\"><iframe src=\"data:text/html;charset=utf-8;base64,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\" style=\"position:absolute;width:100%;height:100%;left:0;top:0;border:none !important;\" allowfullscreen webkitallowfullscreen mozallowfullscreen></iframe></div></div>"
      ],
      "text/plain": [
       "<folium.folium.Map at 0x211dd422240>"
      ]
     },
     "execution_count": 5,
     "metadata": {},
     "output_type": "execute_result"
    }
   ],
   "source": [
    "m = folium.Map(\n",
    "    location=[50.77,6.10],\n",
    "    zoom_start=15,\n",
    "    #tiles='Mapbox Bright'\n",
    ")\n",
    "folium.GeoJson(polygon_df_to_geojson(daten, ['Name']),\n",
    "    style_function=lambda x: {\n",
    "        'color' : 'blue',\n",
    "        'opacity': 0.6,\n",
    "        'fillColor' : 'blue',\n",
    "        }).add_to(m)\n",
    "m"
   ]
  },
  {
   "cell_type": "code",
   "execution_count": 6,
   "metadata": {},
   "outputs": [],
   "source": [
    "def write_to_file(data,filename):\n",
    "    f= open(filename,\"w+\")\n",
    "    f.write(str(data).replace(\"'\",'\"'))\n",
    "    f.close\n",
    "    print('{} successfully written to {}'.format(data,filename))"
   ]
  },
  {
   "cell_type": "code",
   "execution_count": 7,
   "metadata": {},
   "outputs": [
    {
     "name": "stdout",
     "output_type": "stream",
     "text": [
      "{'type': 'FeatureCollection', 'features': [{'type': 'Feature', 'properties': {'Name': 'Neumarkt'}, 'geometry': {'type': 'Polygon', 'coordinates': [[[6.10603272914886, 50.768849944661], [6.106241941452019, 50.76812050224029], [6.10681593418121, 50.7681951433824], [6.1065798997879, 50.7689245846393], [6.10603272914886, 50.768849944661]]]}}, {'type': 'Feature', 'properties': {'Name': 'Frankenberger Park'}, 'geometry': {'type': 'Polygon', 'coordinates': [[[6.10234200954437, 50.7683274614781], [6.10287308692932, 50.767631939096205], [6.103135943412781, 50.767601403730296], [6.1031198501586905, 50.7674521194322], [6.104117631912231, 50.7674385481088], [6.104262471199029, 50.767747294743096], [6.104112267494201, 50.767791401238796], [6.104101538658139, 50.7685751328052], [6.10234200954437, 50.7683274614781]]]}}, {'type': 'Feature', 'properties': {'Name': 'Boendgen'}, 'geometry': {'type': 'Polygon', 'coordinates': [[[6.0994720458984375, 50.766939799241506], [6.098914146423339, 50.76650551018293], [6.101810932159423, 50.76582013956127], [6.102122068405151, 50.76626800664884]]]}}]} successfully written to Out_geojson.txt\n"
     ]
    }
   ],
   "source": [
    "write_to_file(polygon_df_to_geojson(daten, ['Name']),'Out_geojson.txt')"
   ]
  },
  {
   "cell_type": "code",
   "execution_count": 8,
   "metadata": {},
   "outputs": [
    {
     "data": {
      "text/html": [
       "<div>\n",
       "<style scoped>\n",
       "    .dataframe tbody tr th:only-of-type {\n",
       "        vertical-align: middle;\n",
       "    }\n",
       "\n",
       "    .dataframe tbody tr th {\n",
       "        vertical-align: top;\n",
       "    }\n",
       "\n",
       "    .dataframe thead th {\n",
       "        text-align: right;\n",
       "    }\n",
       "</style>\n",
       "<table border=\"1\" class=\"dataframe\">\n",
       "  <thead>\n",
       "    <tr style=\"text-align: right;\">\n",
       "      <th></th>\n",
       "      <th>type</th>\n",
       "      <th>features</th>\n",
       "    </tr>\n",
       "  </thead>\n",
       "  <tbody>\n",
       "    <tr>\n",
       "      <th>0</th>\n",
       "      <td>FeatureCollection</td>\n",
       "      <td>{'type': 'Feature', 'properties': {'Name': 'Ne...</td>\n",
       "    </tr>\n",
       "    <tr>\n",
       "      <th>1</th>\n",
       "      <td>FeatureCollection</td>\n",
       "      <td>{'type': 'Feature', 'properties': {'Name': 'Fr...</td>\n",
       "    </tr>\n",
       "    <tr>\n",
       "      <th>2</th>\n",
       "      <td>FeatureCollection</td>\n",
       "      <td>{'type': 'Feature', 'properties': {'Name': 'Bo...</td>\n",
       "    </tr>\n",
       "  </tbody>\n",
       "</table>\n",
       "</div>"
      ],
      "text/plain": [
       "                type                                           features\n",
       "0  FeatureCollection  {'type': 'Feature', 'properties': {'Name': 'Ne...\n",
       "1  FeatureCollection  {'type': 'Feature', 'properties': {'Name': 'Fr...\n",
       "2  FeatureCollection  {'type': 'Feature', 'properties': {'Name': 'Bo..."
      ]
     },
     "execution_count": 8,
     "metadata": {},
     "output_type": "execute_result"
    }
   ],
   "source": [
    "dats=pd.read_json('Out_geojson.txt'); dats"
   ]
  }
 ],
 "metadata": {
  "kernelspec": {
   "display_name": "Python 3",
   "language": "python",
   "name": "python3"
  },
  "language_info": {
   "codemirror_mode": {
    "name": "ipython",
    "version": 3
   },
   "file_extension": ".py",
   "mimetype": "text/x-python",
   "name": "python",
   "nbconvert_exporter": "python",
   "pygments_lexer": "ipython3",
   "version": "3.6.8"
  }
 },
 "nbformat": 4,
 "nbformat_minor": 2
}
