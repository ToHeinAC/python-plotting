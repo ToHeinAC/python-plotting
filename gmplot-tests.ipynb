{
 "cells": [
  {
   "cell_type": "code",
   "execution_count": 1,
   "metadata": {},
   "outputs": [],
   "source": [
    "#!pip install gmplot "
   ]
  },
  {
   "cell_type": "code",
   "execution_count": 2,
   "metadata": {},
   "outputs": [],
   "source": [
    "import gmplot"
   ]
  },
  {
   "cell_type": "code",
   "execution_count": 3,
   "metadata": {},
   "outputs": [],
   "source": [
    "gmap1 = gmplot.GoogleMapPlotter(30.3164945, \n",
    "                                78.03219179999999, 13 ) "
   ]
  },
  {
   "cell_type": "code",
   "execution_count": 4,
   "metadata": {},
   "outputs": [],
   "source": [
    "gmap1.draw( \"C:\\\\Users\\\\he\\\\Desktop\\\\map11.html\" ) "
   ]
  },
  {
   "cell_type": "code",
   "execution_count": 5,
   "metadata": {},
   "outputs": [],
   "source": [
    "# import gmplot package \n",
    "#import gmplot \n",
    "  \n",
    "latitude_list = [ 30.3358376, 30.307977, 30.3216419 ] \n",
    "longitude_list = [ 77.8701919, 78.048457, 78.0413095 ] \n",
    "  \n",
    "gmap3 = gmplot.GoogleMapPlotter(30.3164945, \n",
    "                                78.03219179999999, 13) \n",
    "  \n",
    "# scatter method of map object  \n",
    "# scatter points on the google map \n",
    "gmap3.scatter( latitude_list, longitude_list, '# FF0000', \n",
    "                              size = 40, marker = False ) \n",
    "  \n",
    "# Plot method Draw a line in \n",
    "# between given coordinates \n",
    "gmap3.plot(latitude_list, longitude_list,  \n",
    "           'cornflowerblue', edge_width = 2.5) \n",
    "  \n",
    "gmap3.draw( \"C:\\\\Users\\\\he\\\\Desktop\\\\map13.html\" ) \n"
   ]
  },
  {
   "cell_type": "code",
   "execution_count": 17,
   "metadata": {},
   "outputs": [],
   "source": [
    "from gmplot import gmplot\n",
    "\n",
    "# Place map\n",
    "gmap = gmplot.GoogleMapPlotter(37.766956, -122.438481, 13)\n",
    "\n",
    "# Polygon\n",
    "golden_gate_park_lats, golden_gate_park_lons = zip(*[\n",
    "    (37.771269, -122.511015),\n",
    "    (37.773495, -122.464830),\n",
    "    (37.774797, -122.454538),\n",
    "    (37.771988, -122.454018),\n",
    "    (37.773646, -122.440979),\n",
    "    (37.772742, -122.440797),\n",
    "    (37.771096, -122.453889),\n",
    "    (37.768669, -122.453518),\n",
    "    (37.766227, -122.460213),\n",
    "    (37.764028, -122.510347),\n",
    "    (37.771269, -122.511015)\n",
    "    ])\n",
    "gmap.plot(golden_gate_park_lats, golden_gate_park_lons, 'cornflowerblue', edge_width=10)\n",
    "\n",
    "# Scatter points\n",
    "top_attraction_lats, top_attraction_lons = zip(*[\n",
    "    (37.769901, -122.498331),\n",
    "    (37.768645, -122.475328),\n",
    "    (37.771478, -122.468677),\n",
    "    (37.769867, -122.466102),\n",
    "    (37.767187, -122.467496),\n",
    "    (37.770104, -122.470436)\n",
    "    ])\n",
    "gmap.scatter(top_attraction_lats, top_attraction_lons, '#3B0B39', size=40, marker=False)\n",
    "\n",
    "# Marker\n",
    "hidden_gem_lat, hidden_gem_lon = 37.770776, -122.461689\n",
    "gmap.marker(hidden_gem_lat, hidden_gem_lon, 'cornflowerblue')\n",
    "\n",
    "# Draw\n",
    "gmap.draw(\"C:\\\\Users\\\\he\\\\Desktop\\\\my_map2.html\")"
   ]
  },
  {
   "cell_type": "code",
   "execution_count": 8,
   "metadata": {},
   "outputs": [],
   "source": [
    "#! /usr/bin/env python\n",
    "# -*- coding: utf-8 -*-\n",
    "\"\"\"\n",
    "Converting a Gauss-Kruger-Code to a latitude / longitude coordinate.\n",
    "\"\"\"\n",
    "from math import cos, pi, sqrt, tan, sin, atan, trunc\n",
    "\n",
    "\n",
    "def convert_GK_to_lat_long(right, height, use_wgs84=None):\n",
    "    (x, y) = gauss_krueger_transformation(right, height)\n",
    "\n",
    "    return seven_parameter_helmert_transf(x, y, use_wgs84)\n",
    "\n",
    "\n",
    "def gauss_krueger_transformation(right, height):\n",
    "    # Check for invalid Parameters\n",
    "    if not ((right > 1000000) and (height > 1000000)):\n",
    "        raise ValueError(\"No valid Gauss-Kruger-Code.\")\n",
    "\n",
    "    # Variables to prepare the geovalues\n",
    "    GKRight = right\n",
    "    GKHeight = height\n",
    "    e2 = 0.0067192188\n",
    "    c = 6398786.849\n",
    "    rho = 180 / pi\n",
    "    bII = (GKHeight / 10000855.7646) * (GKHeight / 10000855.7646)\n",
    "    bf = 325632.08677 * (GKHeight / 10000855.7646) * ((((((0.00000562025 * bII + 0.00022976983) * bII - 0.00113566119) * bII + 0.00424914906) * bII - 0.00831729565) * bII + 1))\n",
    "\n",
    "    bf /= 3600 * rho\n",
    "    co = cos(bf)\n",
    "    g2 = e2 * (co * co)\n",
    "    g1 = c / sqrt(1 + g2)\n",
    "    t = tan(bf)\n",
    "    fa = (GKRight - trunc(GKRight / 1000000) * 1000000 - 500000) / g1\n",
    "\n",
    "    GeoDezRight = ((bf - fa * fa * t * (1 + g2) / 2 + fa * fa * fa * fa * t * (5 + 3 * t * t + 6 * g2 - 6 * g2 * t * t) / 24) * rho)\n",
    "    dl = fa - fa * fa * fa * (1 + 2 * t * t + g2) / 6 + fa * fa * fa * fa * fa * (1 + 28 * t * t + 24 * t * t * t * t) / 120\n",
    "    GeoDezHeight = dl * rho / co + trunc(GKRight / 1000000) * 3\n",
    "\n",
    "    return (GeoDezRight, GeoDezHeight)\n",
    "\n",
    "\n",
    "def seven_parameter_helmert_transf(right, height, use_wgs84=False):\n",
    "    earthRadius = 6378137  # Earth is a sphere with this radius\n",
    "    aBessel = 6377397.155\n",
    "    eeBessel = 0.0066743722296294277832\n",
    "    ScaleFactor = 0.00000982\n",
    "    RotXRad = -7.16069806998785E-06\n",
    "    RotYRad = 3.56822869296619E-07\n",
    "    RotZRad = 7.06858347057704E-06\n",
    "    ShiftXMeters = 591.28\n",
    "    ShiftYMeters = 81.35\n",
    "    ShiftZMeters = 396.39\n",
    "    LatitudeIt = 99999999\n",
    "\n",
    "    if use_wgs84:\n",
    "        ee = 0.0066943799\n",
    "    else:\n",
    "        ee = 0.00669438002290\n",
    "\n",
    "    GeoDezRight = (right / 180) * pi\n",
    "    GeoDezHeight = (height / 180) * pi\n",
    "\n",
    "    n = eeBessel * sin(GeoDezRight) * sin(GeoDezRight)\n",
    "    n = 1 - n\n",
    "    n = sqrt(n)\n",
    "    n = aBessel / n\n",
    "\n",
    "    CartesianXMeters = n * cos(GeoDezRight) * cos(GeoDezHeight)\n",
    "    CartesianYMeters = n * cos(GeoDezRight) * sin(GeoDezHeight)\n",
    "    CartesianZMeters = n * (1 - eeBessel) * sin(GeoDezRight)\n",
    "\n",
    "    CartOutputXMeters = (1 + ScaleFactor) * CartesianXMeters + RotZRad * CartesianYMeters - RotYRad * CartesianZMeters + ShiftXMeters\n",
    "    CartOutputYMeters = -1 * RotZRad * CartesianXMeters + (1 + ScaleFactor) * CartesianYMeters + RotXRad * CartesianZMeters + ShiftYMeters\n",
    "    CartOutputZMeters = RotYRad * CartesianXMeters - RotXRad * CartesianYMeters + (1 + ScaleFactor) * CartesianZMeters + ShiftZMeters\n",
    "\n",
    "    GeoDezHeight = atan(CartOutputYMeters / CartOutputXMeters)\n",
    "\n",
    "    Latitude = (CartOutputXMeters * CartOutputXMeters) + (CartOutputYMeters * CartOutputYMeters)\n",
    "    Latitude = sqrt(Latitude)\n",
    "    Latitude = CartOutputZMeters / Latitude\n",
    "    Latitude = atan(Latitude)\n",
    "\n",
    "    not_accurate_enough = True\n",
    "\n",
    "    while not_accurate_enough:\n",
    "        LatitudeIt = Latitude\n",
    "\n",
    "        n = 1 - ee * sin(Latitude) * sin(Latitude)\n",
    "        n = sqrt(n)\n",
    "        n = earthRadius / n\n",
    "\n",
    "        Latitude = CartOutputXMeters * CartOutputXMeters + CartOutputYMeters * CartOutputYMeters\n",
    "        Latitude = sqrt(Latitude)\n",
    "        Latitude = (CartOutputZMeters + ee * n * sin(LatitudeIt)) / Latitude\n",
    "        Latitude = atan(Latitude)\n",
    "\n",
    "        not_accurate_enough = abs(Latitude - LatitudeIt) >= 0.000000000000001\n",
    "\n",
    "    GeoDezRight = (Latitude / pi) * 180\n",
    "    GeoDezHeight = (GeoDezHeight) / pi * 180\n",
    "\n",
    "    return (GeoDezRight, GeoDezHeight)"
   ]
  },
  {
   "cell_type": "code",
   "execution_count": 12,
   "metadata": {},
   "outputs": [
    {
     "data": {
      "text/plain": [
       "51.5879642551023"
      ]
     },
     "execution_count": 12,
     "metadata": {},
     "output_type": "execute_result"
    }
   ],
   "source": [
    "out=convert_GK_to_lat_long(2568022.216, 5717515.955, use_wgs84=True);out[0]"
   ]
  }
 ],
 "metadata": {
  "kernelspec": {
   "display_name": "Python 3",
   "language": "python",
   "name": "python3"
  },
  "language_info": {
   "codemirror_mode": {
    "name": "ipython",
    "version": 3
   },
   "file_extension": ".py",
   "mimetype": "text/x-python",
   "name": "python",
   "nbconvert_exporter": "python",
   "pygments_lexer": "ipython3",
   "version": "3.6.8"
  }
 },
 "nbformat": 4,
 "nbformat_minor": 2
}
